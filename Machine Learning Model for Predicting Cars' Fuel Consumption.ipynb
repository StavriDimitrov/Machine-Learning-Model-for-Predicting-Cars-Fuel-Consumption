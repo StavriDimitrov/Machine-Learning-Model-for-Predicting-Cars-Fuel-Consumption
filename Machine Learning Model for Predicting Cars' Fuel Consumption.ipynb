{
 "cells": [
  {
   "cell_type": "markdown",
   "metadata": {},
   "source": [
    "<h2>Machine Learning Model for Predicting Cars' Fuel Consumption</h2>"
   ]
  },
  {
   "cell_type": "markdown",
   "metadata": {},
   "source": [
    "<h3><b>Abstract:</b></h3><br>\n",
    "This Jupiter Notebook project represents a Machine Learning Multiple Linear Regression model that was developed by using the Python programming language. The developed model enables to predict the cars' fuel consumption in function of factors such as age of cars, cars' weight, number of cylinders in vehicles' engines, horsepower and others. A well-known fuel consumption <a href='https://archive.ics.uci.edu/ml/datasets/Auto+MPG'>dataset</a> was used for the purposes of the project. The dataset was subsequently split in two datasets - train and test datasets. The train dataset was used to train the regression model and the test dataset was used to predict the fuel consumption with the fitted model. The value of the coefficient of determination R-squared = 0.92 shows that about 92% of the variation in the values of the dependent variable 'fuel consumption' can be explained with the influence of the independent factors in the model and the rest 8% depend on other factors which the model does not take into account."
   ]
  },
  {
   "cell_type": "markdown",
   "metadata": {},
   "source": [
    "<p><b>Author: </b>Stavri Dimitrov, PhD</p>\n",
    "<b>Last Updated: </b>19 August 2020</p>"
   ]
  },
  {
   "cell_type": "markdown",
   "metadata": {},
   "source": [
    "<h2>Table of Contents</h2>\n",
    "\n",
    "<a>1. Libraries and Modules</a><br>\n",
    "<a>2. Data Import</a><br>\n",
    "<a>3. Data Wrangling and Cleansing</a><br>\n",
    "<a>4. Exploratory Data Analysis and Data Visualization</a><br>\n",
    "<a>5. Model Development, Training and Prediction</a><br>\n",
    "<a style=\"padding-left: 15px;\">5.1. Model Training</a><br>\n",
    "<a style=\"padding-left: 15px;\">5.2. Model Predictions and Evaluation Metrics</a><br>\n",
    "<a>6. References</a><br>\n",
    "<a>About the Author</a>\n"
   ]
  },
  {
   "cell_type": "markdown",
   "metadata": {},
   "source": [
    "<h2 id='1. Libraries and Modules'>1. Libraries and Modules</h2>"
   ]
  },
  {
   "cell_type": "code",
   "execution_count": 1,
   "metadata": {
    "scrolled": true
   },
   "outputs": [],
   "source": [
    "# Import libraries and modules\n",
    "import pandas as pd\n",
    "import datetime\n",
    "import seaborn as sns\n",
    "from sklearn.model_selection import train_test_split\n",
    "from sklearn.linear_model import LinearRegression"
   ]
  },
  {
   "cell_type": "markdown",
   "metadata": {},
   "source": [
    "<h2 id='2. Data Import'>2. Data Import</h2>"
   ]
  },
  {
   "cell_type": "code",
   "execution_count": 2,
   "metadata": {},
   "outputs": [
    {
     "data": {
      "text/html": [
       "<div>\n",
       "<style scoped>\n",
       "    .dataframe tbody tr th:only-of-type {\n",
       "        vertical-align: middle;\n",
       "    }\n",
       "\n",
       "    .dataframe tbody tr th {\n",
       "        vertical-align: top;\n",
       "    }\n",
       "\n",
       "    .dataframe thead th {\n",
       "        text-align: right;\n",
       "    }\n",
       "</style>\n",
       "<table border=\"1\" class=\"dataframe\">\n",
       "  <thead>\n",
       "    <tr style=\"text-align: right;\">\n",
       "      <th></th>\n",
       "      <th>mpg</th>\n",
       "      <th>cylinders</th>\n",
       "      <th>displacement</th>\n",
       "      <th>horsepower</th>\n",
       "      <th>weight</th>\n",
       "      <th>acceleration</th>\n",
       "      <th>model_year</th>\n",
       "      <th>origin</th>\n",
       "      <th>car_name</th>\n",
       "    </tr>\n",
       "  </thead>\n",
       "  <tbody>\n",
       "    <tr>\n",
       "      <th>0</th>\n",
       "      <td>18.0</td>\n",
       "      <td>8</td>\n",
       "      <td>307.0</td>\n",
       "      <td>130.0</td>\n",
       "      <td>3504.0</td>\n",
       "      <td>12.0</td>\n",
       "      <td>70</td>\n",
       "      <td>1</td>\n",
       "      <td>\"chevrolet chevelle malibu\"</td>\n",
       "    </tr>\n",
       "    <tr>\n",
       "      <th>1</th>\n",
       "      <td>15.0</td>\n",
       "      <td>8</td>\n",
       "      <td>350.0</td>\n",
       "      <td>165.0</td>\n",
       "      <td>3693.0</td>\n",
       "      <td>11.5</td>\n",
       "      <td>70</td>\n",
       "      <td>1</td>\n",
       "      <td>\"buick skylark 320\"</td>\n",
       "    </tr>\n",
       "    <tr>\n",
       "      <th>2</th>\n",
       "      <td>18.0</td>\n",
       "      <td>8</td>\n",
       "      <td>318.0</td>\n",
       "      <td>150.0</td>\n",
       "      <td>3436.0</td>\n",
       "      <td>11.0</td>\n",
       "      <td>70</td>\n",
       "      <td>1</td>\n",
       "      <td>\"plymouth satellite\"</td>\n",
       "    </tr>\n",
       "    <tr>\n",
       "      <th>3</th>\n",
       "      <td>16.0</td>\n",
       "      <td>8</td>\n",
       "      <td>304.0</td>\n",
       "      <td>150.0</td>\n",
       "      <td>3433.0</td>\n",
       "      <td>12.0</td>\n",
       "      <td>70</td>\n",
       "      <td>1</td>\n",
       "      <td>\"amc rebel sst\"</td>\n",
       "    </tr>\n",
       "    <tr>\n",
       "      <th>4</th>\n",
       "      <td>17.0</td>\n",
       "      <td>8</td>\n",
       "      <td>302.0</td>\n",
       "      <td>140.0</td>\n",
       "      <td>3449.0</td>\n",
       "      <td>10.5</td>\n",
       "      <td>70</td>\n",
       "      <td>1</td>\n",
       "      <td>\"ford torino\"</td>\n",
       "    </tr>\n",
       "  </tbody>\n",
       "</table>\n",
       "</div>"
      ],
      "text/plain": [
       "    mpg  cylinders  displacement horsepower  weight  acceleration  model_year  \\\n",
       "0  18.0          8         307.0      130.0  3504.0          12.0          70   \n",
       "1  15.0          8         350.0      165.0  3693.0          11.5          70   \n",
       "2  18.0          8         318.0      150.0  3436.0          11.0          70   \n",
       "3  16.0          8         304.0      150.0  3433.0          12.0          70   \n",
       "4  17.0          8         302.0      140.0  3449.0          10.5          70   \n",
       "\n",
       "   origin                     car_name  \n",
       "0       1  \"chevrolet chevelle malibu\"  \n",
       "1       1          \"buick skylark 320\"  \n",
       "2       1         \"plymouth satellite\"  \n",
       "3       1              \"amc rebel sst\"  \n",
       "4       1                \"ford torino\"  "
      ]
     },
     "execution_count": 2,
     "metadata": {},
     "output_type": "execute_result"
    }
   ],
   "source": [
    "# Declare column names\n",
    "col_names = ['mpg', 'cylinders', 'displacement', 'horsepower', 'weight', 'acceleration', 'model_year', 'origin', 'car_name']\n",
    "\n",
    "# Assign the content of the '.data' file to a new dataframe called df\n",
    "df = pd.read_fwf('auto-mpg.data', names = col_names)\n",
    "\n",
    "# Show the first 5 data rows\n",
    "df.head()"
   ]
  },
  {
   "cell_type": "code",
   "execution_count": 3,
   "metadata": {
    "scrolled": true
   },
   "outputs": [
    {
     "data": {
      "text/html": [
       "<div>\n",
       "<style scoped>\n",
       "    .dataframe tbody tr th:only-of-type {\n",
       "        vertical-align: middle;\n",
       "    }\n",
       "\n",
       "    .dataframe tbody tr th {\n",
       "        vertical-align: top;\n",
       "    }\n",
       "\n",
       "    .dataframe thead th {\n",
       "        text-align: right;\n",
       "    }\n",
       "</style>\n",
       "<table border=\"1\" class=\"dataframe\">\n",
       "  <thead>\n",
       "    <tr style=\"text-align: right;\">\n",
       "      <th></th>\n",
       "      <th>mpg</th>\n",
       "      <th>cylinders</th>\n",
       "      <th>displacement</th>\n",
       "      <th>horsepower</th>\n",
       "      <th>weight</th>\n",
       "      <th>acceleration</th>\n",
       "      <th>model_year</th>\n",
       "      <th>origin</th>\n",
       "      <th>car_name</th>\n",
       "    </tr>\n",
       "  </thead>\n",
       "  <tbody>\n",
       "    <tr>\n",
       "      <th>393</th>\n",
       "      <td>27.0</td>\n",
       "      <td>4</td>\n",
       "      <td>140.0</td>\n",
       "      <td>86.00</td>\n",
       "      <td>2790.0</td>\n",
       "      <td>15.6</td>\n",
       "      <td>82</td>\n",
       "      <td>1</td>\n",
       "      <td>\"ford mustang gl\"</td>\n",
       "    </tr>\n",
       "    <tr>\n",
       "      <th>394</th>\n",
       "      <td>44.0</td>\n",
       "      <td>4</td>\n",
       "      <td>97.0</td>\n",
       "      <td>52.00</td>\n",
       "      <td>2130.0</td>\n",
       "      <td>24.6</td>\n",
       "      <td>82</td>\n",
       "      <td>2</td>\n",
       "      <td>\"vw pickup\"</td>\n",
       "    </tr>\n",
       "    <tr>\n",
       "      <th>395</th>\n",
       "      <td>32.0</td>\n",
       "      <td>4</td>\n",
       "      <td>135.0</td>\n",
       "      <td>84.00</td>\n",
       "      <td>2295.0</td>\n",
       "      <td>11.6</td>\n",
       "      <td>82</td>\n",
       "      <td>1</td>\n",
       "      <td>\"dodge rampage\"</td>\n",
       "    </tr>\n",
       "    <tr>\n",
       "      <th>396</th>\n",
       "      <td>28.0</td>\n",
       "      <td>4</td>\n",
       "      <td>120.0</td>\n",
       "      <td>79.00</td>\n",
       "      <td>2625.0</td>\n",
       "      <td>18.6</td>\n",
       "      <td>82</td>\n",
       "      <td>1</td>\n",
       "      <td>\"ford ranger\"</td>\n",
       "    </tr>\n",
       "    <tr>\n",
       "      <th>397</th>\n",
       "      <td>31.0</td>\n",
       "      <td>4</td>\n",
       "      <td>119.0</td>\n",
       "      <td>82.00</td>\n",
       "      <td>2720.0</td>\n",
       "      <td>19.4</td>\n",
       "      <td>82</td>\n",
       "      <td>1</td>\n",
       "      <td>\"chevy s-10\"</td>\n",
       "    </tr>\n",
       "  </tbody>\n",
       "</table>\n",
       "</div>"
      ],
      "text/plain": [
       "      mpg  cylinders  displacement horsepower  weight  acceleration  \\\n",
       "393  27.0          4         140.0      86.00  2790.0          15.6   \n",
       "394  44.0          4          97.0      52.00  2130.0          24.6   \n",
       "395  32.0          4         135.0      84.00  2295.0          11.6   \n",
       "396  28.0          4         120.0      79.00  2625.0          18.6   \n",
       "397  31.0          4         119.0      82.00  2720.0          19.4   \n",
       "\n",
       "     model_year  origin           car_name  \n",
       "393          82       1  \"ford mustang gl\"  \n",
       "394          82       2        \"vw pickup\"  \n",
       "395          82       1    \"dodge rampage\"  \n",
       "396          82       1      \"ford ranger\"  \n",
       "397          82       1       \"chevy s-10\"  "
      ]
     },
     "execution_count": 3,
     "metadata": {},
     "output_type": "execute_result"
    }
   ],
   "source": [
    "df.tail()"
   ]
  },
  {
   "cell_type": "code",
   "execution_count": 4,
   "metadata": {
    "scrolled": true
   },
   "outputs": [
    {
     "data": {
      "text/plain": [
       "(398, 9)"
      ]
     },
     "execution_count": 4,
     "metadata": {},
     "output_type": "execute_result"
    }
   ],
   "source": [
    "# Show the number of datarows and columns\n",
    "df.shape"
   ]
  },
  {
   "cell_type": "code",
   "execution_count": 5,
   "metadata": {
    "scrolled": true
   },
   "outputs": [
    {
     "data": {
      "text/plain": [
       "mpg             float64\n",
       "cylinders         int64\n",
       "displacement    float64\n",
       "horsepower       object\n",
       "weight          float64\n",
       "acceleration    float64\n",
       "model_year        int64\n",
       "origin            int64\n",
       "car_name         object\n",
       "dtype: object"
      ]
     },
     "execution_count": 5,
     "metadata": {},
     "output_type": "execute_result"
    }
   ],
   "source": [
    "# Display the data types\n",
    "df.dtypes"
   ]
  },
  {
   "cell_type": "markdown",
   "metadata": {},
   "source": [
    "<h2 id='3. Data Wrangling and Cleansing'>3. Data Wrangling and Cleansing</h2>"
   ]
  },
  {
   "cell_type": "code",
   "execution_count": 6,
   "metadata": {
    "scrolled": true
   },
   "outputs": [
    {
     "data": {
      "text/html": [
       "<div>\n",
       "<style scoped>\n",
       "    .dataframe tbody tr th:only-of-type {\n",
       "        vertical-align: middle;\n",
       "    }\n",
       "\n",
       "    .dataframe tbody tr th {\n",
       "        vertical-align: top;\n",
       "    }\n",
       "\n",
       "    .dataframe thead th {\n",
       "        text-align: right;\n",
       "    }\n",
       "</style>\n",
       "<table border=\"1\" class=\"dataframe\">\n",
       "  <thead>\n",
       "    <tr style=\"text-align: right;\">\n",
       "      <th></th>\n",
       "      <th>mpg</th>\n",
       "      <th>cylinders</th>\n",
       "      <th>displacement</th>\n",
       "      <th>weight</th>\n",
       "      <th>acceleration</th>\n",
       "      <th>model_year</th>\n",
       "      <th>origin</th>\n",
       "    </tr>\n",
       "  </thead>\n",
       "  <tbody>\n",
       "    <tr>\n",
       "      <th>count</th>\n",
       "      <td>398.000000</td>\n",
       "      <td>398.000000</td>\n",
       "      <td>398.000000</td>\n",
       "      <td>398.000000</td>\n",
       "      <td>398.000000</td>\n",
       "      <td>398.000000</td>\n",
       "      <td>398.000000</td>\n",
       "    </tr>\n",
       "    <tr>\n",
       "      <th>mean</th>\n",
       "      <td>23.514573</td>\n",
       "      <td>5.454774</td>\n",
       "      <td>193.425879</td>\n",
       "      <td>2970.424623</td>\n",
       "      <td>15.568090</td>\n",
       "      <td>76.010050</td>\n",
       "      <td>1.572864</td>\n",
       "    </tr>\n",
       "    <tr>\n",
       "      <th>std</th>\n",
       "      <td>7.815984</td>\n",
       "      <td>1.701004</td>\n",
       "      <td>104.269838</td>\n",
       "      <td>846.841774</td>\n",
       "      <td>2.757689</td>\n",
       "      <td>3.697627</td>\n",
       "      <td>0.802055</td>\n",
       "    </tr>\n",
       "    <tr>\n",
       "      <th>min</th>\n",
       "      <td>9.000000</td>\n",
       "      <td>3.000000</td>\n",
       "      <td>68.000000</td>\n",
       "      <td>1613.000000</td>\n",
       "      <td>8.000000</td>\n",
       "      <td>70.000000</td>\n",
       "      <td>1.000000</td>\n",
       "    </tr>\n",
       "    <tr>\n",
       "      <th>25%</th>\n",
       "      <td>17.500000</td>\n",
       "      <td>4.000000</td>\n",
       "      <td>104.250000</td>\n",
       "      <td>2223.750000</td>\n",
       "      <td>13.825000</td>\n",
       "      <td>73.000000</td>\n",
       "      <td>1.000000</td>\n",
       "    </tr>\n",
       "    <tr>\n",
       "      <th>50%</th>\n",
       "      <td>23.000000</td>\n",
       "      <td>4.000000</td>\n",
       "      <td>148.500000</td>\n",
       "      <td>2803.500000</td>\n",
       "      <td>15.500000</td>\n",
       "      <td>76.000000</td>\n",
       "      <td>1.000000</td>\n",
       "    </tr>\n",
       "    <tr>\n",
       "      <th>75%</th>\n",
       "      <td>29.000000</td>\n",
       "      <td>8.000000</td>\n",
       "      <td>262.000000</td>\n",
       "      <td>3608.000000</td>\n",
       "      <td>17.175000</td>\n",
       "      <td>79.000000</td>\n",
       "      <td>2.000000</td>\n",
       "    </tr>\n",
       "    <tr>\n",
       "      <th>max</th>\n",
       "      <td>46.600000</td>\n",
       "      <td>8.000000</td>\n",
       "      <td>455.000000</td>\n",
       "      <td>5140.000000</td>\n",
       "      <td>24.800000</td>\n",
       "      <td>82.000000</td>\n",
       "      <td>3.000000</td>\n",
       "    </tr>\n",
       "  </tbody>\n",
       "</table>\n",
       "</div>"
      ],
      "text/plain": [
       "              mpg   cylinders  displacement       weight  acceleration  \\\n",
       "count  398.000000  398.000000    398.000000   398.000000    398.000000   \n",
       "mean    23.514573    5.454774    193.425879  2970.424623     15.568090   \n",
       "std      7.815984    1.701004    104.269838   846.841774      2.757689   \n",
       "min      9.000000    3.000000     68.000000  1613.000000      8.000000   \n",
       "25%     17.500000    4.000000    104.250000  2223.750000     13.825000   \n",
       "50%     23.000000    4.000000    148.500000  2803.500000     15.500000   \n",
       "75%     29.000000    8.000000    262.000000  3608.000000     17.175000   \n",
       "max     46.600000    8.000000    455.000000  5140.000000     24.800000   \n",
       "\n",
       "       model_year      origin  \n",
       "count  398.000000  398.000000  \n",
       "mean    76.010050    1.572864  \n",
       "std      3.697627    0.802055  \n",
       "min     70.000000    1.000000  \n",
       "25%     73.000000    1.000000  \n",
       "50%     76.000000    1.000000  \n",
       "75%     79.000000    2.000000  \n",
       "max     82.000000    3.000000  "
      ]
     },
     "execution_count": 6,
     "metadata": {},
     "output_type": "execute_result"
    }
   ],
   "source": [
    "# Calculate and show a descriptive statistics\n",
    "df.describe()"
   ]
  },
  {
   "cell_type": "markdown",
   "metadata": {},
   "source": [
    "<b>Note:</b> Statistics for the 'horsepower' column is not showing as it si an object (string) value column!"
   ]
  },
  {
   "cell_type": "code",
   "execution_count": 7,
   "metadata": {
    "scrolled": true
   },
   "outputs": [
    {
     "data": {
      "text/plain": [
       "mpg             0\n",
       "cylinders       0\n",
       "displacement    0\n",
       "horsepower      0\n",
       "weight          0\n",
       "acceleration    0\n",
       "model_year      0\n",
       "origin          0\n",
       "car_name        0\n",
       "dtype: int64"
      ]
     },
     "execution_count": 7,
     "metadata": {},
     "output_type": "execute_result"
    }
   ],
   "source": [
    "# Check for missing values\n",
    "df.isnull().sum()"
   ]
  },
  {
   "cell_type": "code",
   "execution_count": 8,
   "metadata": {
    "scrolled": true
   },
   "outputs": [],
   "source": [
    "# Replace the missing values in the 'horsepower' column\n",
    "df['horsepower'] = df['horsepower'].replace('?', '0')"
   ]
  },
  {
   "cell_type": "code",
   "execution_count": 9,
   "metadata": {
    "scrolled": false
   },
   "outputs": [
    {
     "data": {
      "text/plain": [
       "mpg             float64\n",
       "cylinders         int64\n",
       "displacement    float64\n",
       "horsepower      float64\n",
       "weight          float64\n",
       "acceleration    float64\n",
       "model_year        int64\n",
       "origin            int64\n",
       "car_name         object\n",
       "dtype: object"
      ]
     },
     "execution_count": 9,
     "metadata": {},
     "output_type": "execute_result"
    }
   ],
   "source": [
    "# Cast the 'horsepower' column from an object (string) to a numeric (float64)\n",
    "df['horsepower'] = pd.to_numeric(df['horsepower'])\n",
    "\n",
    "# Display the data types\n",
    "df.dtypes"
   ]
  },
  {
   "cell_type": "code",
   "execution_count": 10,
   "metadata": {
    "scrolled": true
   },
   "outputs": [
    {
     "data": {
      "text/html": [
       "<div>\n",
       "<style scoped>\n",
       "    .dataframe tbody tr th:only-of-type {\n",
       "        vertical-align: middle;\n",
       "    }\n",
       "\n",
       "    .dataframe tbody tr th {\n",
       "        vertical-align: top;\n",
       "    }\n",
       "\n",
       "    .dataframe thead th {\n",
       "        text-align: right;\n",
       "    }\n",
       "</style>\n",
       "<table border=\"1\" class=\"dataframe\">\n",
       "  <thead>\n",
       "    <tr style=\"text-align: right;\">\n",
       "      <th></th>\n",
       "      <th>fuel_consumption</th>\n",
       "      <th>cylinders</th>\n",
       "      <th>displacement</th>\n",
       "      <th>horsepower</th>\n",
       "      <th>weight</th>\n",
       "      <th>acceleration</th>\n",
       "      <th>model_year</th>\n",
       "      <th>origin</th>\n",
       "      <th>car_name</th>\n",
       "    </tr>\n",
       "  </thead>\n",
       "  <tbody>\n",
       "    <tr>\n",
       "      <th>0</th>\n",
       "      <td>13.1</td>\n",
       "      <td>8</td>\n",
       "      <td>307.0</td>\n",
       "      <td>130.0</td>\n",
       "      <td>3504.0</td>\n",
       "      <td>12.0</td>\n",
       "      <td>70</td>\n",
       "      <td>1</td>\n",
       "      <td>\"chevrolet chevelle malibu\"</td>\n",
       "    </tr>\n",
       "    <tr>\n",
       "      <th>1</th>\n",
       "      <td>15.7</td>\n",
       "      <td>8</td>\n",
       "      <td>350.0</td>\n",
       "      <td>165.0</td>\n",
       "      <td>3693.0</td>\n",
       "      <td>11.5</td>\n",
       "      <td>70</td>\n",
       "      <td>1</td>\n",
       "      <td>\"buick skylark 320\"</td>\n",
       "    </tr>\n",
       "    <tr>\n",
       "      <th>2</th>\n",
       "      <td>13.1</td>\n",
       "      <td>8</td>\n",
       "      <td>318.0</td>\n",
       "      <td>150.0</td>\n",
       "      <td>3436.0</td>\n",
       "      <td>11.0</td>\n",
       "      <td>70</td>\n",
       "      <td>1</td>\n",
       "      <td>\"plymouth satellite\"</td>\n",
       "    </tr>\n",
       "    <tr>\n",
       "      <th>3</th>\n",
       "      <td>14.7</td>\n",
       "      <td>8</td>\n",
       "      <td>304.0</td>\n",
       "      <td>150.0</td>\n",
       "      <td>3433.0</td>\n",
       "      <td>12.0</td>\n",
       "      <td>70</td>\n",
       "      <td>1</td>\n",
       "      <td>\"amc rebel sst\"</td>\n",
       "    </tr>\n",
       "    <tr>\n",
       "      <th>4</th>\n",
       "      <td>13.8</td>\n",
       "      <td>8</td>\n",
       "      <td>302.0</td>\n",
       "      <td>140.0</td>\n",
       "      <td>3449.0</td>\n",
       "      <td>10.5</td>\n",
       "      <td>70</td>\n",
       "      <td>1</td>\n",
       "      <td>\"ford torino\"</td>\n",
       "    </tr>\n",
       "  </tbody>\n",
       "</table>\n",
       "</div>"
      ],
      "text/plain": [
       "   fuel_consumption  cylinders  displacement  horsepower  weight  \\\n",
       "0              13.1          8         307.0       130.0  3504.0   \n",
       "1              15.7          8         350.0       165.0  3693.0   \n",
       "2              13.1          8         318.0       150.0  3436.0   \n",
       "3              14.7          8         304.0       150.0  3433.0   \n",
       "4              13.8          8         302.0       140.0  3449.0   \n",
       "\n",
       "   acceleration  model_year  origin                     car_name  \n",
       "0          12.0          70       1  \"chevrolet chevelle malibu\"  \n",
       "1          11.5          70       1          \"buick skylark 320\"  \n",
       "2          11.0          70       1         \"plymouth satellite\"  \n",
       "3          12.0          70       1              \"amc rebel sst\"  \n",
       "4          10.5          70       1                \"ford torino\"  "
      ]
     },
     "execution_count": 10,
     "metadata": {},
     "output_type": "execute_result"
    }
   ],
   "source": [
    "# Convert the fuel consumption measurement unit from US miles per galon(mpg) to litres per 100km(L/100km)\n",
    "fuel_conversion_rate = 235.2146\n",
    "df['mpg'] = round(fuel_conversion_rate/df['mpg'],1)\n",
    "\n",
    "# Rename the 'mpg' column to 'fuel consumption'\n",
    "df.rename(columns = {'mpg':'fuel_consumption'}, inplace = True)\n",
    "\n",
    "# Show the first 5 data rows\n",
    "df.head()"
   ]
  },
  {
   "cell_type": "code",
   "execution_count": 11,
   "metadata": {
    "scrolled": true
   },
   "outputs": [
    {
     "data": {
      "text/html": [
       "<div>\n",
       "<style scoped>\n",
       "    .dataframe tbody tr th:only-of-type {\n",
       "        vertical-align: middle;\n",
       "    }\n",
       "\n",
       "    .dataframe tbody tr th {\n",
       "        vertical-align: top;\n",
       "    }\n",
       "\n",
       "    .dataframe thead th {\n",
       "        text-align: right;\n",
       "    }\n",
       "</style>\n",
       "<table border=\"1\" class=\"dataframe\">\n",
       "  <thead>\n",
       "    <tr style=\"text-align: right;\">\n",
       "      <th></th>\n",
       "      <th>car_name</th>\n",
       "    </tr>\n",
       "  </thead>\n",
       "  <tbody>\n",
       "    <tr>\n",
       "      <th>\"ford pinto\"</th>\n",
       "      <td>6</td>\n",
       "    </tr>\n",
       "    <tr>\n",
       "      <th>\"ford maverick\"</th>\n",
       "      <td>5</td>\n",
       "    </tr>\n",
       "    <tr>\n",
       "      <th>\"toyota corolla\"</th>\n",
       "      <td>5</td>\n",
       "    </tr>\n",
       "    <tr>\n",
       "      <th>\"amc matador\"</th>\n",
       "      <td>5</td>\n",
       "    </tr>\n",
       "    <tr>\n",
       "      <th>\"chevrolet impala\"</th>\n",
       "      <td>4</td>\n",
       "    </tr>\n",
       "    <tr>\n",
       "      <th>...</th>\n",
       "      <td>...</td>\n",
       "    </tr>\n",
       "    <tr>\n",
       "      <th>\"dodge d200\"</th>\n",
       "      <td>1</td>\n",
       "    </tr>\n",
       "    <tr>\n",
       "      <th>\"chevrolet malibu classic (sw)\"</th>\n",
       "      <td>1</td>\n",
       "    </tr>\n",
       "    <tr>\n",
       "      <th>\"toyota corolla tercel\"</th>\n",
       "      <td>1</td>\n",
       "    </tr>\n",
       "    <tr>\n",
       "      <th>\"toyota tercel\"</th>\n",
       "      <td>1</td>\n",
       "    </tr>\n",
       "    <tr>\n",
       "      <th>\"peugeot 505s turbo diesel\"</th>\n",
       "      <td>1</td>\n",
       "    </tr>\n",
       "  </tbody>\n",
       "</table>\n",
       "<p>305 rows × 1 columns</p>\n",
       "</div>"
      ],
      "text/plain": [
       "                                 car_name\n",
       "\"ford pinto\"                            6\n",
       "\"ford maverick\"                         5\n",
       "\"toyota corolla\"                        5\n",
       "\"amc matador\"                           5\n",
       "\"chevrolet impala\"                      4\n",
       "...                                   ...\n",
       "\"dodge d200\"                            1\n",
       "\"chevrolet malibu classic (sw)\"         1\n",
       "\"toyota corolla tercel\"                 1\n",
       "\"toyota tercel\"                         1\n",
       "\"peugeot 505s turbo diesel\"             1\n",
       "\n",
       "[305 rows x 1 columns]"
      ]
     },
     "execution_count": 11,
     "metadata": {},
     "output_type": "execute_result"
    }
   ],
   "source": [
    "# Count and display in a table the distribution of the cars names by a unique name\n",
    "df_car_names = df['car_name'].value_counts().to_frame()\n",
    "df_car_names"
   ]
  },
  {
   "cell_type": "code",
   "execution_count": 12,
   "metadata": {
    "scrolled": true
   },
   "outputs": [
    {
     "data": {
      "text/html": [
       "<div>\n",
       "<style scoped>\n",
       "    .dataframe tbody tr th:only-of-type {\n",
       "        vertical-align: middle;\n",
       "    }\n",
       "\n",
       "    .dataframe tbody tr th {\n",
       "        vertical-align: top;\n",
       "    }\n",
       "\n",
       "    .dataframe thead th {\n",
       "        text-align: right;\n",
       "    }\n",
       "</style>\n",
       "<table border=\"1\" class=\"dataframe\">\n",
       "  <thead>\n",
       "    <tr style=\"text-align: right;\">\n",
       "      <th></th>\n",
       "      <th>cylinders</th>\n",
       "    </tr>\n",
       "  </thead>\n",
       "  <tbody>\n",
       "    <tr>\n",
       "      <th>4</th>\n",
       "      <td>204</td>\n",
       "    </tr>\n",
       "    <tr>\n",
       "      <th>8</th>\n",
       "      <td>103</td>\n",
       "    </tr>\n",
       "    <tr>\n",
       "      <th>6</th>\n",
       "      <td>84</td>\n",
       "    </tr>\n",
       "    <tr>\n",
       "      <th>3</th>\n",
       "      <td>4</td>\n",
       "    </tr>\n",
       "    <tr>\n",
       "      <th>5</th>\n",
       "      <td>3</td>\n",
       "    </tr>\n",
       "  </tbody>\n",
       "</table>\n",
       "</div>"
      ],
      "text/plain": [
       "   cylinders\n",
       "4        204\n",
       "8        103\n",
       "6         84\n",
       "3          4\n",
       "5          3"
      ]
     },
     "execution_count": 12,
     "metadata": {},
     "output_type": "execute_result"
    }
   ],
   "source": [
    "# Assign to the df_cylinders dataframe and show the distribution of the cars grouped by an engine type (number of cylinders)\n",
    "df_cylinders = df['cylinders'].value_counts().to_frame()\n",
    "df_cylinders"
   ]
  },
  {
   "cell_type": "code",
   "execution_count": 13,
   "metadata": {
    "scrolled": true
   },
   "outputs": [
    {
     "data": {
      "text/html": [
       "<div>\n",
       "<style scoped>\n",
       "    .dataframe tbody tr th:only-of-type {\n",
       "        vertical-align: middle;\n",
       "    }\n",
       "\n",
       "    .dataframe tbody tr th {\n",
       "        vertical-align: top;\n",
       "    }\n",
       "\n",
       "    .dataframe thead th {\n",
       "        text-align: right;\n",
       "    }\n",
       "</style>\n",
       "<table border=\"1\" class=\"dataframe\">\n",
       "  <thead>\n",
       "    <tr style=\"text-align: right;\">\n",
       "      <th></th>\n",
       "      <th>cylinders</th>\n",
       "      <th>horsepower</th>\n",
       "    </tr>\n",
       "  </thead>\n",
       "  <tbody>\n",
       "    <tr>\n",
       "      <th>0</th>\n",
       "      <td>8</td>\n",
       "      <td>130.0</td>\n",
       "    </tr>\n",
       "    <tr>\n",
       "      <th>1</th>\n",
       "      <td>8</td>\n",
       "      <td>165.0</td>\n",
       "    </tr>\n",
       "    <tr>\n",
       "      <th>2</th>\n",
       "      <td>8</td>\n",
       "      <td>150.0</td>\n",
       "    </tr>\n",
       "    <tr>\n",
       "      <th>3</th>\n",
       "      <td>8</td>\n",
       "      <td>150.0</td>\n",
       "    </tr>\n",
       "    <tr>\n",
       "      <th>4</th>\n",
       "      <td>8</td>\n",
       "      <td>140.0</td>\n",
       "    </tr>\n",
       "    <tr>\n",
       "      <th>...</th>\n",
       "      <td>...</td>\n",
       "      <td>...</td>\n",
       "    </tr>\n",
       "    <tr>\n",
       "      <th>393</th>\n",
       "      <td>4</td>\n",
       "      <td>86.0</td>\n",
       "    </tr>\n",
       "    <tr>\n",
       "      <th>394</th>\n",
       "      <td>4</td>\n",
       "      <td>52.0</td>\n",
       "    </tr>\n",
       "    <tr>\n",
       "      <th>395</th>\n",
       "      <td>4</td>\n",
       "      <td>84.0</td>\n",
       "    </tr>\n",
       "    <tr>\n",
       "      <th>396</th>\n",
       "      <td>4</td>\n",
       "      <td>79.0</td>\n",
       "    </tr>\n",
       "    <tr>\n",
       "      <th>397</th>\n",
       "      <td>4</td>\n",
       "      <td>82.0</td>\n",
       "    </tr>\n",
       "  </tbody>\n",
       "</table>\n",
       "<p>398 rows × 2 columns</p>\n",
       "</div>"
      ],
      "text/plain": [
       "     cylinders  horsepower\n",
       "0            8       130.0\n",
       "1            8       165.0\n",
       "2            8       150.0\n",
       "3            8       150.0\n",
       "4            8       140.0\n",
       "..         ...         ...\n",
       "393          4        86.0\n",
       "394          4        52.0\n",
       "395          4        84.0\n",
       "396          4        79.0\n",
       "397          4        82.0\n",
       "\n",
       "[398 rows x 2 columns]"
      ]
     },
     "execution_count": 13,
     "metadata": {},
     "output_type": "execute_result"
    }
   ],
   "source": [
    "# Create and display in a table a new dataframe(df_horsepower) from existing one(df) having 2 columns(cylinders and horsepower)\n",
    "df_horsepower = df[['cylinders', 'horsepower']].copy()\n",
    "df_horsepower"
   ]
  },
  {
   "cell_type": "code",
   "execution_count": 14,
   "metadata": {
    "scrolled": true
   },
   "outputs": [
    {
     "data": {
      "text/html": [
       "<div>\n",
       "<style scoped>\n",
       "    .dataframe tbody tr th:only-of-type {\n",
       "        vertical-align: middle;\n",
       "    }\n",
       "\n",
       "    .dataframe tbody tr th {\n",
       "        vertical-align: top;\n",
       "    }\n",
       "\n",
       "    .dataframe thead th {\n",
       "        text-align: right;\n",
       "    }\n",
       "</style>\n",
       "<table border=\"1\" class=\"dataframe\">\n",
       "  <thead>\n",
       "    <tr style=\"text-align: right;\">\n",
       "      <th></th>\n",
       "      <th>horsepower</th>\n",
       "    </tr>\n",
       "    <tr>\n",
       "      <th>cylinders</th>\n",
       "      <th></th>\n",
       "    </tr>\n",
       "  </thead>\n",
       "  <tbody>\n",
       "    <tr>\n",
       "      <th>3</th>\n",
       "      <td>99.250000</td>\n",
       "    </tr>\n",
       "    <tr>\n",
       "      <th>4</th>\n",
       "      <td>76.362745</td>\n",
       "    </tr>\n",
       "    <tr>\n",
       "      <th>5</th>\n",
       "      <td>82.333333</td>\n",
       "    </tr>\n",
       "    <tr>\n",
       "      <th>6</th>\n",
       "      <td>100.297619</td>\n",
       "    </tr>\n",
       "    <tr>\n",
       "      <th>8</th>\n",
       "      <td>158.300971</td>\n",
       "    </tr>\n",
       "  </tbody>\n",
       "</table>\n",
       "</div>"
      ],
      "text/plain": [
       "           horsepower\n",
       "cylinders            \n",
       "3           99.250000\n",
       "4           76.362745\n",
       "5           82.333333\n",
       "6          100.297619\n",
       "8          158.300971"
      ]
     },
     "execution_count": 14,
     "metadata": {},
     "output_type": "execute_result"
    }
   ],
   "source": [
    "# Calculate and show the average horsepower of cars by the number of cylinders (3, 4, 5, 6 and 8).\n",
    "df_av_hp = df_horsepower.groupby(['cylinders']).mean()\n",
    "df_av_hp"
   ]
  },
  {
   "cell_type": "code",
   "execution_count": 15,
   "metadata": {
    "scrolled": false
   },
   "outputs": [
    {
     "name": "stdout",
     "output_type": "stream",
     "text": [
      "-----------------------------------------------------------------\n",
      "average horse power for 3-cylinder engines = 99.0\n",
      "average horse power for 4-cylinder engines = 76.0\n",
      "average horse power for 5-cylinder engines = 82.0\n",
      "average horse power for 6-cylinder engines = 100.0\n",
      "average horse power for 8-cylinder engines = 158.0\n",
      "-----------------------------------------------------------------\n"
     ]
    }
   ],
   "source": [
    "# Assign to a separate variable the calculated average HP value by engine type (number of cylinders)\n",
    "hp_av_3 = round(df_av_hp.iloc[0,0])\n",
    "hp_av_4 = round(df_av_hp.iloc[1,0])\n",
    "hp_av_5 = round(df_av_hp.iloc[2,0])\n",
    "hp_av_6 = round(df_av_hp.iloc[3,0])\n",
    "hp_av_8 = round(df_av_hp.iloc[4,0])\n",
    "\n",
    "# Print the averaged HP values\n",
    "print('-----------------------------------------------------------------')\n",
    "print('average horse power for 3-cylinder engines =', hp_av_3)\n",
    "print('average horse power for 4-cylinder engines =', hp_av_4)\n",
    "print('average horse power for 5-cylinder engines =', hp_av_5)\n",
    "print('average horse power for 6-cylinder engines =', hp_av_6)\n",
    "print('average horse power for 8-cylinder engines =', hp_av_8)\n",
    "print('-----------------------------------------------------------------')\n",
    "\n",
    "# Assign to a variable and print the number of the datarows in the df dataframe\n",
    "counter = df.shape[0]\n",
    "#print('counter = ', counter)\n",
    "\n",
    "# Check for 0 values by engine type in the horsepower column and assign the calculated average values\n",
    "for i in range(counter):\n",
    "    if df.loc[i, 'cylinders'] == 3 and df.loc[i, 'horsepower'] == 0:                                   \n",
    "        df.loc[i, 'horsepower'] = hp_av_3\n",
    "        #print('Row number =', i, 'cylinders =', df.loc[i, 'cylinders'], df.loc[i, 'horsepower'])\n",
    "    elif df.loc[i, 'cylinders'] == 4 and df.loc[i, 'horsepower'] == 0:                                 \n",
    "        df.loc[i, 'horsepower'] = hp_av_4\n",
    "        #print('Row number =', i, 'cylinders =', df.loc[i, 'cylinders'], df.loc[i, 'horsepower'])\n",
    "    elif df.loc[i, 'cylinders'] == 5 and df.loc[i, 'horsepower'] == 0:                                   \n",
    "        df.loc[i, 'horsepower'] = hp_av_5\n",
    "        #print('Row number =', i, 'cylinders =', df.loc[i, 'cylinders'], df.loc[i, 'horsepower'])        \n",
    "    elif df.loc[i, 'cylinders'] == 6 and df.loc[i, 'horsepower'] == 0:                           \n",
    "        df.loc[i, 'horsepower'] = hp_av_6\n",
    "        #print('Row number =', i, 'cylinders =', df.loc[i, 'cylinders'], df.loc[i, 'horsepower'])\n",
    "    elif df.loc[i, 'cylinders'] == 8 and df.loc[i, 'horsepower'] == 0:                           \n",
    "        df.loc[i, 'horsepower'] = hp_av_8\n",
    "        #print('Row number =', i, 'cylinders =', df.loc[i, 'cylinders'], df.loc[i, 'horsepower'])\n",
    "    else:\n",
    "       pass\n",
    "       #print('Row number =', i, 'cylinders =', df.loc[i, 'cylinders'], df.loc[i, 'horsepower'])"
   ]
  },
  {
   "cell_type": "code",
   "execution_count": 16,
   "metadata": {
    "scrolled": true
   },
   "outputs": [
    {
     "data": {
      "text/html": [
       "<div>\n",
       "<style scoped>\n",
       "    .dataframe tbody tr th:only-of-type {\n",
       "        vertical-align: middle;\n",
       "    }\n",
       "\n",
       "    .dataframe tbody tr th {\n",
       "        vertical-align: top;\n",
       "    }\n",
       "\n",
       "    .dataframe thead th {\n",
       "        text-align: right;\n",
       "    }\n",
       "</style>\n",
       "<table border=\"1\" class=\"dataframe\">\n",
       "  <thead>\n",
       "    <tr style=\"text-align: right;\">\n",
       "      <th></th>\n",
       "      <th>fuel_consumption</th>\n",
       "      <th>cylinders</th>\n",
       "      <th>displacement</th>\n",
       "      <th>horsepower</th>\n",
       "      <th>weight</th>\n",
       "      <th>acceleration</th>\n",
       "      <th>car_age</th>\n",
       "      <th>origin</th>\n",
       "      <th>car_name</th>\n",
       "    </tr>\n",
       "  </thead>\n",
       "  <tbody>\n",
       "    <tr>\n",
       "      <th>0</th>\n",
       "      <td>13.1</td>\n",
       "      <td>8</td>\n",
       "      <td>307.0</td>\n",
       "      <td>130.0</td>\n",
       "      <td>3504.0</td>\n",
       "      <td>12.0</td>\n",
       "      <td>50</td>\n",
       "      <td>1</td>\n",
       "      <td>\"chevrolet chevelle malibu\"</td>\n",
       "    </tr>\n",
       "    <tr>\n",
       "      <th>1</th>\n",
       "      <td>15.7</td>\n",
       "      <td>8</td>\n",
       "      <td>350.0</td>\n",
       "      <td>165.0</td>\n",
       "      <td>3693.0</td>\n",
       "      <td>11.5</td>\n",
       "      <td>50</td>\n",
       "      <td>1</td>\n",
       "      <td>\"buick skylark 320\"</td>\n",
       "    </tr>\n",
       "    <tr>\n",
       "      <th>2</th>\n",
       "      <td>13.1</td>\n",
       "      <td>8</td>\n",
       "      <td>318.0</td>\n",
       "      <td>150.0</td>\n",
       "      <td>3436.0</td>\n",
       "      <td>11.0</td>\n",
       "      <td>50</td>\n",
       "      <td>1</td>\n",
       "      <td>\"plymouth satellite\"</td>\n",
       "    </tr>\n",
       "    <tr>\n",
       "      <th>3</th>\n",
       "      <td>14.7</td>\n",
       "      <td>8</td>\n",
       "      <td>304.0</td>\n",
       "      <td>150.0</td>\n",
       "      <td>3433.0</td>\n",
       "      <td>12.0</td>\n",
       "      <td>50</td>\n",
       "      <td>1</td>\n",
       "      <td>\"amc rebel sst\"</td>\n",
       "    </tr>\n",
       "    <tr>\n",
       "      <th>4</th>\n",
       "      <td>13.8</td>\n",
       "      <td>8</td>\n",
       "      <td>302.0</td>\n",
       "      <td>140.0</td>\n",
       "      <td>3449.0</td>\n",
       "      <td>10.5</td>\n",
       "      <td>50</td>\n",
       "      <td>1</td>\n",
       "      <td>\"ford torino\"</td>\n",
       "    </tr>\n",
       "  </tbody>\n",
       "</table>\n",
       "</div>"
      ],
      "text/plain": [
       "   fuel_consumption  cylinders  displacement  horsepower  weight  \\\n",
       "0              13.1          8         307.0       130.0  3504.0   \n",
       "1              15.7          8         350.0       165.0  3693.0   \n",
       "2              13.1          8         318.0       150.0  3436.0   \n",
       "3              14.7          8         304.0       150.0  3433.0   \n",
       "4              13.8          8         302.0       140.0  3449.0   \n",
       "\n",
       "   acceleration  car_age  origin                     car_name  \n",
       "0          12.0       50       1  \"chevrolet chevelle malibu\"  \n",
       "1          11.5       50       1          \"buick skylark 320\"  \n",
       "2          11.0       50       1         \"plymouth satellite\"  \n",
       "3          12.0       50       1              \"amc rebel sst\"  \n",
       "4          10.5       50       1                \"ford torino\"  "
      ]
     },
     "execution_count": 16,
     "metadata": {},
     "output_type": "execute_result"
    }
   ],
   "source": [
    "# Declare variables for the full current date as well as for the current year only\n",
    "current_full_date = datetime.datetime.now()\n",
    "current_year = current_full_date.year\n",
    "# Print the current year\n",
    "#print(current_year)\n",
    "\n",
    "# Represent the year from a 2-digit number to a 4-digit number (e.g. from 70 to 1970) to calculate the age of the cars.\n",
    "# The below formula is only valid for cars produced in 20th century (see the original dataset)!\n",
    "df['model_year'] = df['model_year'] + 1900\n",
    "\n",
    "# Rename the 'model_year' column to a 'car_age' column and calculate the cars' age.\n",
    "df.rename(columns = {'model_year':'car_age'}, inplace = True)\n",
    "df['car_age'] = current_year - df['car_age']\n",
    "\n",
    "# Display the first 5 datarows including the calculated car age\n",
    "df.head()"
   ]
  },
  {
   "cell_type": "code",
   "execution_count": 17,
   "metadata": {
    "scrolled": true
   },
   "outputs": [],
   "source": [
    "# Convert the cars' weight from pounds[lb] to kilograms[kg]\n",
    "weight_conversion_rate = 0.4536\n",
    "df['weight'] = round(df['weight']*weight_conversion_rate)"
   ]
  },
  {
   "cell_type": "code",
   "execution_count": 18,
   "metadata": {
    "scrolled": true
   },
   "outputs": [
    {
     "data": {
      "text/html": [
       "<div>\n",
       "<style scoped>\n",
       "    .dataframe tbody tr th:only-of-type {\n",
       "        vertical-align: middle;\n",
       "    }\n",
       "\n",
       "    .dataframe tbody tr th {\n",
       "        vertical-align: top;\n",
       "    }\n",
       "\n",
       "    .dataframe thead th {\n",
       "        text-align: right;\n",
       "    }\n",
       "</style>\n",
       "<table border=\"1\" class=\"dataframe\">\n",
       "  <thead>\n",
       "    <tr style=\"text-align: right;\">\n",
       "      <th></th>\n",
       "      <th>fuel_consumption</th>\n",
       "      <th>cylinders</th>\n",
       "      <th>displacement</th>\n",
       "      <th>horsepower</th>\n",
       "      <th>weight</th>\n",
       "      <th>acceleration</th>\n",
       "      <th>car_age</th>\n",
       "    </tr>\n",
       "  </thead>\n",
       "  <tbody>\n",
       "    <tr>\n",
       "      <th>0</th>\n",
       "      <td>13.1</td>\n",
       "      <td>8</td>\n",
       "      <td>307.0</td>\n",
       "      <td>130.0</td>\n",
       "      <td>1589.0</td>\n",
       "      <td>12.0</td>\n",
       "      <td>50</td>\n",
       "    </tr>\n",
       "    <tr>\n",
       "      <th>1</th>\n",
       "      <td>15.7</td>\n",
       "      <td>8</td>\n",
       "      <td>350.0</td>\n",
       "      <td>165.0</td>\n",
       "      <td>1675.0</td>\n",
       "      <td>11.5</td>\n",
       "      <td>50</td>\n",
       "    </tr>\n",
       "    <tr>\n",
       "      <th>2</th>\n",
       "      <td>13.1</td>\n",
       "      <td>8</td>\n",
       "      <td>318.0</td>\n",
       "      <td>150.0</td>\n",
       "      <td>1559.0</td>\n",
       "      <td>11.0</td>\n",
       "      <td>50</td>\n",
       "    </tr>\n",
       "    <tr>\n",
       "      <th>3</th>\n",
       "      <td>14.7</td>\n",
       "      <td>8</td>\n",
       "      <td>304.0</td>\n",
       "      <td>150.0</td>\n",
       "      <td>1557.0</td>\n",
       "      <td>12.0</td>\n",
       "      <td>50</td>\n",
       "    </tr>\n",
       "    <tr>\n",
       "      <th>4</th>\n",
       "      <td>13.8</td>\n",
       "      <td>8</td>\n",
       "      <td>302.0</td>\n",
       "      <td>140.0</td>\n",
       "      <td>1564.0</td>\n",
       "      <td>10.5</td>\n",
       "      <td>50</td>\n",
       "    </tr>\n",
       "  </tbody>\n",
       "</table>\n",
       "</div>"
      ],
      "text/plain": [
       "   fuel_consumption  cylinders  displacement  horsepower  weight  \\\n",
       "0              13.1          8         307.0       130.0  1589.0   \n",
       "1              15.7          8         350.0       165.0  1675.0   \n",
       "2              13.1          8         318.0       150.0  1559.0   \n",
       "3              14.7          8         304.0       150.0  1557.0   \n",
       "4              13.8          8         302.0       140.0  1564.0   \n",
       "\n",
       "   acceleration  car_age  \n",
       "0          12.0       50  \n",
       "1          11.5       50  \n",
       "2          11.0       50  \n",
       "3          12.0       50  \n",
       "4          10.5       50  "
      ]
     },
     "execution_count": 18,
     "metadata": {},
     "output_type": "execute_result"
    }
   ],
   "source": [
    "# Drop the 'origin' and 'car_name' columns from the df dataframe\n",
    "df.drop(columns = ['origin', 'car_name'], axis = 1, inplace = True)\n",
    "\n",
    "# Display the frist 5 data rows\n",
    "df.head()"
   ]
  },
  {
   "cell_type": "code",
   "execution_count": 19,
   "metadata": {},
   "outputs": [],
   "source": [
    "# Save to a '.csv' file the working df dataframe\n",
    "df.to_csv('df_hp_missing_values_fixed.csv', sep = ',')"
   ]
  },
  {
   "cell_type": "markdown",
   "metadata": {},
   "source": [
    "<h2 id='4. Exploratory Data Analysis and Data Visualization'>4. Exploratory Data Analysis and Data Visualization</h2>"
   ]
  },
  {
   "cell_type": "code",
   "execution_count": 20,
   "metadata": {
    "scrolled": true
   },
   "outputs": [
    {
     "data": {
      "text/html": [
       "<div>\n",
       "<style scoped>\n",
       "    .dataframe tbody tr th:only-of-type {\n",
       "        vertical-align: middle;\n",
       "    }\n",
       "\n",
       "    .dataframe tbody tr th {\n",
       "        vertical-align: top;\n",
       "    }\n",
       "\n",
       "    .dataframe thead th {\n",
       "        text-align: right;\n",
       "    }\n",
       "</style>\n",
       "<table border=\"1\" class=\"dataframe\">\n",
       "  <thead>\n",
       "    <tr style=\"text-align: right;\">\n",
       "      <th></th>\n",
       "      <th>fuel_consumption</th>\n",
       "      <th>cylinders</th>\n",
       "      <th>displacement</th>\n",
       "      <th>horsepower</th>\n",
       "      <th>weight</th>\n",
       "      <th>acceleration</th>\n",
       "      <th>car_age</th>\n",
       "    </tr>\n",
       "  </thead>\n",
       "  <tbody>\n",
       "    <tr>\n",
       "      <th>count</th>\n",
       "      <td>398.000000</td>\n",
       "      <td>398.000000</td>\n",
       "      <td>398.000000</td>\n",
       "      <td>398.000000</td>\n",
       "      <td>398.000000</td>\n",
       "      <td>398.000000</td>\n",
       "      <td>398.000000</td>\n",
       "    </tr>\n",
       "    <tr>\n",
       "      <th>mean</th>\n",
       "      <td>11.212814</td>\n",
       "      <td>5.454774</td>\n",
       "      <td>193.425879</td>\n",
       "      <td>104.100503</td>\n",
       "      <td>1347.386935</td>\n",
       "      <td>15.568090</td>\n",
       "      <td>43.989950</td>\n",
       "    </tr>\n",
       "    <tr>\n",
       "      <th>std</th>\n",
       "      <td>3.905304</td>\n",
       "      <td>1.701004</td>\n",
       "      <td>104.269838</td>\n",
       "      <td>38.331445</td>\n",
       "      <td>384.131499</td>\n",
       "      <td>2.757689</td>\n",
       "      <td>3.697627</td>\n",
       "    </tr>\n",
       "    <tr>\n",
       "      <th>min</th>\n",
       "      <td>5.000000</td>\n",
       "      <td>3.000000</td>\n",
       "      <td>68.000000</td>\n",
       "      <td>46.000000</td>\n",
       "      <td>732.000000</td>\n",
       "      <td>8.000000</td>\n",
       "      <td>38.000000</td>\n",
       "    </tr>\n",
       "    <tr>\n",
       "      <th>25%</th>\n",
       "      <td>8.100000</td>\n",
       "      <td>4.000000</td>\n",
       "      <td>104.250000</td>\n",
       "      <td>76.000000</td>\n",
       "      <td>1008.500000</td>\n",
       "      <td>13.825000</td>\n",
       "      <td>41.000000</td>\n",
       "    </tr>\n",
       "    <tr>\n",
       "      <th>50%</th>\n",
       "      <td>10.200000</td>\n",
       "      <td>4.000000</td>\n",
       "      <td>148.500000</td>\n",
       "      <td>92.000000</td>\n",
       "      <td>1271.500000</td>\n",
       "      <td>15.500000</td>\n",
       "      <td>44.000000</td>\n",
       "    </tr>\n",
       "    <tr>\n",
       "      <th>75%</th>\n",
       "      <td>13.400000</td>\n",
       "      <td>8.000000</td>\n",
       "      <td>262.000000</td>\n",
       "      <td>125.000000</td>\n",
       "      <td>1636.500000</td>\n",
       "      <td>17.175000</td>\n",
       "      <td>47.000000</td>\n",
       "    </tr>\n",
       "    <tr>\n",
       "      <th>max</th>\n",
       "      <td>26.100000</td>\n",
       "      <td>8.000000</td>\n",
       "      <td>455.000000</td>\n",
       "      <td>230.000000</td>\n",
       "      <td>2332.000000</td>\n",
       "      <td>24.800000</td>\n",
       "      <td>50.000000</td>\n",
       "    </tr>\n",
       "  </tbody>\n",
       "</table>\n",
       "</div>"
      ],
      "text/plain": [
       "       fuel_consumption   cylinders  displacement  horsepower       weight  \\\n",
       "count        398.000000  398.000000    398.000000  398.000000   398.000000   \n",
       "mean          11.212814    5.454774    193.425879  104.100503  1347.386935   \n",
       "std            3.905304    1.701004    104.269838   38.331445   384.131499   \n",
       "min            5.000000    3.000000     68.000000   46.000000   732.000000   \n",
       "25%            8.100000    4.000000    104.250000   76.000000  1008.500000   \n",
       "50%           10.200000    4.000000    148.500000   92.000000  1271.500000   \n",
       "75%           13.400000    8.000000    262.000000  125.000000  1636.500000   \n",
       "max           26.100000    8.000000    455.000000  230.000000  2332.000000   \n",
       "\n",
       "       acceleration     car_age  \n",
       "count    398.000000  398.000000  \n",
       "mean      15.568090   43.989950  \n",
       "std        2.757689    3.697627  \n",
       "min        8.000000   38.000000  \n",
       "25%       13.825000   41.000000  \n",
       "50%       15.500000   44.000000  \n",
       "75%       17.175000   47.000000  \n",
       "max       24.800000   50.000000  "
      ]
     },
     "execution_count": 20,
     "metadata": {},
     "output_type": "execute_result"
    }
   ],
   "source": [
    "# Calculate and print descriptive statistics to see the 'horsepower', 'weight' and 'car_age' values.\n",
    "df.describe()"
   ]
  },
  {
   "cell_type": "code",
   "execution_count": 21,
   "metadata": {
    "scrolled": true
   },
   "outputs": [
    {
     "data": {
      "text/plain": [
       "<matplotlib.axes._subplots.AxesSubplot at 0x22639d9ba88>"
      ]
     },
     "execution_count": 21,
     "metadata": {},
     "output_type": "execute_result"
    },
    {
     "data": {
      "image/png": "[encoded data removed]",
      "text/plain": [
       "<Figure size 432x288 with 1 Axes>"
      ]
     },
     "metadata": {
      "needs_background": "light"
     },
     "output_type": "display_data"
    }
   ],
   "source": [
    "# Create a list variable containing the columns name excluding the removed \"origin\" and \"car_name\" columns\n",
    "col_names_corr = ['fuel_consumption', 'cylinders', 'displacement', 'horsepower', 'weight', 'acceleration', 'car_age']\n",
    "\n",
    "# Dsiplay scatter plot diagram for the feature variable 'cylinders' and the label variable 'fuel_consumption'\n",
    "sns.scatterplot(x = 'cylinders', y = 'fuel_consumption', data = df)"
   ]
  },
  {
   "cell_type": "code",
   "execution_count": 22,
   "metadata": {
    "scrolled": true
   },
   "outputs": [
    {
     "data": {
      "text/plain": [
       "<matplotlib.axes._subplots.AxesSubplot at 0x22639f6f908>"
      ]
     },
     "execution_count": 22,
     "metadata": {},
     "output_type": "execute_result"
    },
    {
     "data": {
      "image/png": "[encoded data removed]",
      "text/plain": [
       "<Figure size 432x288 with 1 Axes>"
      ]
     },
     "metadata": {
      "needs_background": "light"
     },
     "output_type": "display_data"
    }
   ],
   "source": [
    "# Display scatter plot diagram for the feature variable 'displacement' and the label variable 'fuel_consumption'\n",
    "sns.scatterplot(x = 'displacement', y = 'fuel_consumption', data = df)"
   ]
  },
  {
   "cell_type": "code",
   "execution_count": 23,
   "metadata": {
    "scrolled": true
   },
   "outputs": [
    {
     "data": {
      "text/plain": [
       "<matplotlib.axes._subplots.AxesSubplot at 0x22639febb08>"
      ]
     },
     "execution_count": 23,
     "metadata": {},
     "output_type": "execute_result"
    },
    {
     "data": {
      "image/png": "[encoded data removed]",
      "text/plain": [
       "<Figure size 432x288 with 1 Axes>"
      ]
     },
     "metadata": {
      "needs_background": "light"
     },
     "output_type": "display_data"
    }
   ],
   "source": [
    "# Display scatter plot diagram for the feature variable 'horsepower' and the label variable 'fuel_consumption'\n",
    "sns.scatterplot(x = 'horsepower', y = 'fuel_consumption', data = df)"
   ]
  },
  {
   "cell_type": "code",
   "execution_count": 24,
   "metadata": {
    "scrolled": true
   },
   "outputs": [
    {
     "data": {
      "text/plain": [
       "<matplotlib.axes._subplots.AxesSubplot at 0x2263a04d908>"
      ]
     },
     "execution_count": 24,
     "metadata": {},
     "output_type": "execute_result"
    },
    {
     "data": {
      "image/png": "[encoded data removed]",
      "text/plain": [
       "<Figure size 432x288 with 1 Axes>"
      ]
     },
     "metadata": {
      "needs_background": "light"
     },
     "output_type": "display_data"
    }
   ],
   "source": [
    "# Display scatter plot diagram for the feature variable 'weight' and the label variable 'fuel_consumption'\n",
    "sns.scatterplot(x = 'weight', y = 'fuel_consumption', data = df)"
   ]
  },
  {
   "cell_type": "code",
   "execution_count": 25,
   "metadata": {
    "scrolled": true
   },
   "outputs": [
    {
     "data": {
      "text/plain": [
       "<matplotlib.axes._subplots.AxesSubplot at 0x2263a0ae288>"
      ]
     },
     "execution_count": 25,
     "metadata": {},
     "output_type": "execute_result"
    },
    {
     "data": {
      "image/png": "[encoded data removed]",
      "text/plain": [
       "<Figure size 432x288 with 1 Axes>"
      ]
     },
     "metadata": {
      "needs_background": "light"
     },
     "output_type": "display_data"
    }
   ],
   "source": [
    "# Display scatter plot diagram for the feature variable 'acceleration' and the label variable 'fuel_consumption'\n",
    "sns.scatterplot(x = 'acceleration', y = 'fuel_consumption', data = df)"
   ]
  },
  {
   "cell_type": "code",
   "execution_count": 26,
   "metadata": {
    "scrolled": true
   },
   "outputs": [
    {
     "data": {
      "text/plain": [
       "<matplotlib.axes._subplots.AxesSubplot at 0x22638003c48>"
      ]
     },
     "execution_count": 26,
     "metadata": {},
     "output_type": "execute_result"
    },
    {
     "data": {
      "image/png": "[encoded data removed]",
      "text/plain": [
       "<Figure size 432x288 with 1 Axes>"
      ]
     },
     "metadata": {
      "needs_background": "light"
     },
     "output_type": "display_data"
    }
   ],
   "source": [
    "# Display scatter plot diagram for the feature variable 'car_age' and the label variable 'fuel_consumption'\n",
    "sns.scatterplot(x = 'car_age', y = 'fuel_consumption', data = df)"
   ]
  },
  {
   "cell_type": "code",
   "execution_count": 27,
   "metadata": {
    "scrolled": true
   },
   "outputs": [
    {
     "data": {
      "text/html": [
       "<div>\n",
       "<style scoped>\n",
       "    .dataframe tbody tr th:only-of-type {\n",
       "        vertical-align: middle;\n",
       "    }\n",
       "\n",
       "    .dataframe tbody tr th {\n",
       "        vertical-align: top;\n",
       "    }\n",
       "\n",
       "    .dataframe thead th {\n",
       "        text-align: right;\n",
       "    }\n",
       "</style>\n",
       "<table border=\"1\" class=\"dataframe\">\n",
       "  <thead>\n",
       "    <tr style=\"text-align: right;\">\n",
       "      <th></th>\n",
       "      <th>fuel_consumption</th>\n",
       "      <th>cylinders</th>\n",
       "      <th>displacement</th>\n",
       "      <th>horsepower</th>\n",
       "      <th>weight</th>\n",
       "      <th>acceleration</th>\n",
       "      <th>car_age</th>\n",
       "    </tr>\n",
       "  </thead>\n",
       "  <tbody>\n",
       "    <tr>\n",
       "      <th>fuel_consumption</th>\n",
       "      <td>1.000000</td>\n",
       "      <td>0.839543</td>\n",
       "      <td>0.866774</td>\n",
       "      <td>0.854501</td>\n",
       "      <td>0.885237</td>\n",
       "      <td>-0.455994</td>\n",
       "      <td>0.557396</td>\n",
       "    </tr>\n",
       "    <tr>\n",
       "      <th>cylinders</th>\n",
       "      <td>0.839543</td>\n",
       "      <td>1.000000</td>\n",
       "      <td>0.950721</td>\n",
       "      <td>0.843951</td>\n",
       "      <td>0.895986</td>\n",
       "      <td>-0.505419</td>\n",
       "      <td>0.348746</td>\n",
       "    </tr>\n",
       "    <tr>\n",
       "      <th>displacement</th>\n",
       "      <td>0.866774</td>\n",
       "      <td>0.950721</td>\n",
       "      <td>1.000000</td>\n",
       "      <td>0.897598</td>\n",
       "      <td>0.932814</td>\n",
       "      <td>-0.543684</td>\n",
       "      <td>0.370164</td>\n",
       "    </tr>\n",
       "    <tr>\n",
       "      <th>horsepower</th>\n",
       "      <td>0.854501</td>\n",
       "      <td>0.843951</td>\n",
       "      <td>0.897598</td>\n",
       "      <td>1.000000</td>\n",
       "      <td>0.863640</td>\n",
       "      <td>-0.688197</td>\n",
       "      <td>0.417129</td>\n",
       "    </tr>\n",
       "    <tr>\n",
       "      <th>weight</th>\n",
       "      <td>0.885237</td>\n",
       "      <td>0.895986</td>\n",
       "      <td>0.932814</td>\n",
       "      <td>0.863640</td>\n",
       "      <td>1.000000</td>\n",
       "      <td>-0.417463</td>\n",
       "      <td>0.306540</td>\n",
       "    </tr>\n",
       "    <tr>\n",
       "      <th>acceleration</th>\n",
       "      <td>-0.455994</td>\n",
       "      <td>-0.505419</td>\n",
       "      <td>-0.543684</td>\n",
       "      <td>-0.688197</td>\n",
       "      <td>-0.417463</td>\n",
       "      <td>1.000000</td>\n",
       "      <td>-0.288137</td>\n",
       "    </tr>\n",
       "    <tr>\n",
       "      <th>car_age</th>\n",
       "      <td>0.557396</td>\n",
       "      <td>0.348746</td>\n",
       "      <td>0.370164</td>\n",
       "      <td>0.417129</td>\n",
       "      <td>0.306540</td>\n",
       "      <td>-0.288137</td>\n",
       "      <td>1.000000</td>\n",
       "    </tr>\n",
       "  </tbody>\n",
       "</table>\n",
       "</div>"
      ],
      "text/plain": [
       "                  fuel_consumption  cylinders  displacement  horsepower  \\\n",
       "fuel_consumption          1.000000   0.839543      0.866774    0.854501   \n",
       "cylinders                 0.839543   1.000000      0.950721    0.843951   \n",
       "displacement              0.866774   0.950721      1.000000    0.897598   \n",
       "horsepower                0.854501   0.843951      0.897598    1.000000   \n",
       "weight                    0.885237   0.895986      0.932814    0.863640   \n",
       "acceleration             -0.455994  -0.505419     -0.543684   -0.688197   \n",
       "car_age                   0.557396   0.348746      0.370164    0.417129   \n",
       "\n",
       "                    weight  acceleration   car_age  \n",
       "fuel_consumption  0.885237     -0.455994  0.557396  \n",
       "cylinders         0.895986     -0.505419  0.348746  \n",
       "displacement      0.932814     -0.543684  0.370164  \n",
       "horsepower        0.863640     -0.688197  0.417129  \n",
       "weight            1.000000     -0.417463  0.306540  \n",
       "acceleration     -0.417463      1.000000 -0.288137  \n",
       "car_age           0.306540     -0.288137  1.000000  "
      ]
     },
     "execution_count": 27,
     "metadata": {},
     "output_type": "execute_result"
    }
   ],
   "source": [
    "# Display the correlations table/matrix\n",
    "df.corr()"
   ]
  },
  {
   "cell_type": "code",
   "execution_count": 28,
   "metadata": {
    "scrolled": true
   },
   "outputs": [
    {
     "data": {
      "text/plain": [
       "<matplotlib.axes._subplots.AxesSubplot at 0x2263a16cf88>"
      ]
     },
     "execution_count": 28,
     "metadata": {},
     "output_type": "execute_result"
    },
    {
     "data": {
      "image/png": "[encoded data removed]",
      "text/plain": [
       "<Figure size 432x288 with 2 Axes>"
      ]
     },
     "metadata": {},
     "output_type": "display_data"
    }
   ],
   "source": [
    "# Assign to a variable, plot on a heatmap and display the correlation matrix\n",
    "sns.set(style = 'white')\n",
    "corr_matrix = df.corr()\n",
    "sns.heatmap(corr_matrix, vmin=None, vmax=None, cmap='YlGnBu', center=None, robust=False, annot=True, fmt='.2g', annot_kws=None, linewidths=2, linecolor='white', cbar=True, cbar_kws=None, cbar_ax=None, square=False, xticklabels='auto', yticklabels='auto', mask=None, ax=None)"
   ]
  },
  {
   "cell_type": "code",
   "execution_count": 29,
   "metadata": {
    "scrolled": true
   },
   "outputs": [
    {
     "data": {
      "text/plain": [
       "fuel_consumption    1.000000\n",
       "weight              0.885237\n",
       "displacement        0.866774\n",
       "horsepower          0.854501\n",
       "cylinders           0.839543\n",
       "car_age             0.557396\n",
       "acceleration       -0.455994\n",
       "Name: fuel_consumption, dtype: float64"
      ]
     },
     "execution_count": 29,
     "metadata": {},
     "output_type": "execute_result"
    }
   ],
   "source": [
    "# Display the correlation between the label 'fuel_consumption' variable and the featured variables sorted in an ascending order.\n",
    "df.corr()['fuel_consumption'].sort_values(ascending = False)"
   ]
  },
  {
   "cell_type": "markdown",
   "metadata": {},
   "source": [
    "<h2 id='5. Model Development, Training and Prediction'>5. Model Development, Training and Prediction</h2>"
   ]
  },
  {
   "cell_type": "markdown",
   "metadata": {},
   "source": [
    "<h3 id='5.1. Model Training'>5.1. Model Training</h3>"
   ]
  },
  {
   "cell_type": "code",
   "execution_count": 30,
   "metadata": {},
   "outputs": [
    {
     "name": "stdout",
     "output_type": "stream",
     "text": [
      "The number of rows in the train dataset are 318\n",
      "The number of rows in the test dataset are 80\n"
     ]
    },
    {
     "data": {
      "text/plain": [
       "LinearRegression(copy_X=True, fit_intercept=True, n_jobs=None, normalize=False)"
      ]
     },
     "execution_count": 30,
     "metadata": {},
     "output_type": "execute_result"
    }
   ],
   "source": [
    "# Create a list variable containing the columns name excluding the label variable 'fuel_consumption' as well as the \"origin\" and \"car_name\" columns.\n",
    "col_names_regr = ['cylinders', 'displacement', 'horsepower', 'weight', 'acceleration', 'car_age']\n",
    "\n",
    "X = df[col_names_regr]\n",
    "Y = df['fuel_consumption']\n",
    "\n",
    "# Split the data into train and test datasets\n",
    "X_train, X_test, Y_train, Y_test = train_test_split(X, Y, test_size = 0.2, random_state = 1)\n",
    "\n",
    "# Print the number of the datarows used to train and test the multiple linear regression model\n",
    "print(\"The number of rows in the train dataset are\", X_train.shape[0])\n",
    "print(\"The number of rows in the test dataset are\", X_test.shape[0])\n",
    "\n",
    "# Train the regression model by using the fit() function\n",
    "MLR = LinearRegression()\n",
    "MLR.fit(X_train, Y_train)"
   ]
  },
  {
   "cell_type": "markdown",
   "metadata": {},
   "source": [
    "<h3 id='5.2. Model Predictions and Evaluation Metrics'>5.2. Model Predictions and Evaluation Metrics</h3>"
   ]
  },
  {
   "cell_type": "code",
   "execution_count": 31,
   "metadata": {
    "scrolled": true
   },
   "outputs": [
    {
     "name": "stdout",
     "output_type": "stream",
     "text": [
      "\n",
      "The intercept value of the multiple linear regression model is b0 = -15.51909647\n",
      "\n",
      "The coefficients b1, b2, ..., b11 of the multiple linear regression model of type\n",
      "\n",
      "Y_hat = b0 + b1.X1 + b2.X2 + b3.X3 + b4.X4 + b5.X5 + b6.X6 have values: \n",
      "[ 0.30048785 -0.00453743  0.02804279  0.00586874  0.0878004   0.31352031]\n",
      "\n",
      "The Multiple Linear Regression Model is:\n",
      "fuel_consumption = \n",
      "                   -15.51909647\n",
      "                   +0.30048785.cylinders\n",
      "                   -0.00453743.displacement\n",
      "                   +0.02804279.horsepower\n",
      "                   +0.00586874.weight\n",
      "                   +0.0878004.acceleration\n",
      "                   +0.31352031.car_age\n",
      "\n",
      "The predicted values for cars fuel consumption per 100km are:\n",
      "[11.55588018  9.90263102 13.63636534 10.37669383 10.89890819 15.76297451\n",
      "  8.16679508  6.22184777 14.43201505 18.15547474  7.46418658 14.74958926\n",
      " 12.05089495  9.74300075  5.33351903 11.10418136 18.6002984  12.17744855\n",
      " 19.41708019  7.03582483 10.23660301  7.34903591 11.72484068 10.01529767\n",
      "  9.82038419  8.30579412  7.2544419   6.94021102 15.21712886  7.62586713\n",
      "  9.74160341 19.05121615 12.26784217  8.96713514  9.64649734 16.9969183\n",
      "  8.80625327 20.01236221  6.46751543  9.83202712  9.68292983  9.74797298\n",
      " 13.0810583   6.58331203  9.89994573 11.73206153 12.43136953 17.40584106\n",
      "  8.63986688 13.1524744  10.32881798  9.17795218 15.00402958 17.21403394\n",
      "  7.9656264  10.45599911 19.12202907 16.76525342  7.84714516  5.60864462\n",
      "  5.80884148  5.6701049  14.47496302  9.17090722 13.94093403  6.91120525\n",
      "  9.47776537  9.71860609  7.65746687 16.93660897 13.70389868 10.36820593\n",
      " 15.81447969  8.65563706 17.05634936  8.73020497  9.45360078 15.21384872\n",
      " 17.13100857 11.02121964]\n",
      "\n",
      "The coefficient of determination R-squared calculated for the test dataset is: \n",
      "R-squared_test = 0.92\n"
     ]
    }
   ],
   "source": [
    "# Make predictions with the fitted model\n",
    "Y_hat = MLR.predict(X_test)\n",
    "\n",
    "# Display the value of the coefficient of determiantion(R-squared) calculated with the test dataset\n",
    "R_squared_test = MLR.score(X_test, Y_test)\n",
    "\n",
    "# Round the R-squared value\n",
    "R_squared_test = round(R_squared_test, 3)\n",
    "\n",
    "# Print the values of the regression coefficients, some predicted values and the R-squared value\n",
    "print('\\nThe intercept value of the multiple linear regression model is b0 =', round(MLR.intercept_,8))\n",
    "print('\\nThe coefficients b1, b2, ..., b11 of the multiple linear regression model of type')\n",
    "print('\\nY_hat = b0 + b1.X1 + b2.X2 + b3.X3 + b4.X4 + b5.X5 + b6.X6 have values: ')\n",
    "print(MLR.coef_)\n",
    "\n",
    "print('\\nThe Multiple Linear Regression Model is:')\n",
    "print('fuel_consumption = ')\n",
    "print('                   -15.51909647')\n",
    "print('                   +0.30048785.cylinders')\n",
    "print('                   -0.00453743.displacement')\n",
    "print('                   +0.02804279.horsepower')\n",
    "print('                   +0.00586874.weight')\n",
    "print('                   +0.0878004.acceleration')\n",
    "print('                   +0.31352031.car_age')\n",
    "\n",
    "print('\\nThe predicted values for cars fuel consumption per 100km are:')\n",
    "print(Y_hat, sep = '\\n')\n",
    "print('\\nThe coefficient of determination R-squared calculated for the test dataset is: ')\n",
    "print('R-squared_test =', round(R_squared_test,2))"
   ]
  },
  {
   "cell_type": "markdown",
   "metadata": {},
   "source": [
    "<h2 id='6. References'>6. References</h2>"
   ]
  },
  {
   "cell_type": "markdown",
   "metadata": {},
   "source": [
    "[1] <a href='https://www.python-course.eu/pandas_replacing_values.php'>Accessing and Changing values of DataFrames</a><br> \n",
    "[2] <a href='https://pythonhow.com/accessing-dataframe-columns-rows-and-cells/'>Accessing pandas dataframe columns, rows, and cells</a><br>\n",
    "[3] <a href='https://archive.ics.uci.edu/ml/machine-learning-databases/auto-mpg/'> Auto MPG Data Folder</a><br>\n",
    "[4] <a href='https://archive.ics.uci.edu/ml/datasets/Auto+MPG'>Auto MPG Data Set</a><br>\n",
    "[5] <a href='https://www.geeksforgeeks.org/check-multiple-conditions-in-if-statement-python/'>Check multiple conditions in if statement – Python</a><br>\n",
    "[6] <a href='https://stackoverflow.com/questions/34682828/extracting-specific-selected-columns-to-new-dataframe-as-a-copy'>Extracting specific selected columns to new DataFrame as a copy</a><br>\n",
    "[7] <a href='https://www.datacamp.com/community/tutorials/for-loops-in-python'>For Loops in Python</a><br>\n",
    "[8] <a href='https://www.thecalculatorsite.com/conversions/fuelconsumption.php'>Fuel Consumption Converter</a><br>\n",
    "[9] <a href='https://stackoverflow.com/questions/19632728/how-do-i-get-a-python-program-to-do-nothing/19632742'>How do I get a python program to do nothing?</a><br>\n",
    "[10] <a href='https://stackoverflow.com/questions/15943769/how-do-i-get-the-row-count-of-a-pandas-dataframe'>How do I get the row count of a pandas DataFrame?</a><br>\n",
    "[11] <a href='https://towardsdatascience.com/how-to-change-datatypes-in-pandas-in-4-minutes-677addf9a409'>How To Change DataTypes In Pandas in 4 Minutes</a><br>\n",
    "[12] <a href='https://stackoverflow.com/questions/30071886/how-to-get-current-time-in-python-and-break-up-into-year-month-day-hour-minu'>How to get current time in python and break up into year, month, day, hour, minute?</a><br>\n",
    "[13] <a href='https://stackoverflow.com/questions/41906199/how-to-make-a-new-line-in-a-jupyter-markdown-cell'>How to make a new line in a jupyter markdown cell</a><br>\n",
    "[14] <a href='https://stackoverflow.com/questions/28080066/how-to-reference-a-ipython-notebook-cell-in-markdown'>How to reference a IPython notebook cell in markdown?</a><br>\n",
    "[15] <a href='https://stackoverflow.com/questions/31554574/html-padding-style'>HTML Padding Style</a><br>\n",
    "[16] <a href='https://pandas.pydata.org/pandas-docs/stable/user_guide/io.html#io-fwf-reader'>IO tools (text, CSV, HDF5, …)</a><br>\n",
    "[17] <a href='https://jupyter.brynmawr.edu/services/public/dblank/Jupyter%20Notebook%20Users%20Manual.ipynb'>Jupyter Notebook Users Manual</a><br>\n",
    "[18] <a href='https://realpython.com/linear-regression-in-python/'>Linear Regression in Python by Mirko Stojiljković</a><br>\n",
    "[19] <a href='https://en.wikipedia.org/wiki/Machine_learning'>Machine learning</a><br>\n",
    "[20] <a href='https://www.ritchieng.com/machine-learning-linear-regression/'>Machine Learning Linear Regression</a><br>\n",
    "[21] <a href='https://www.datacamp.com/community/tutorials/markdown-in-jupyter-notebook'>Markdown in Jupyter Notebook</a><br>\n",
    "[22] <a href='https://www.mathsisfun.com/metric-imperial-conversion-charts.html'>Metric Conversion Chart</a><br>\n",
    "[23] <a href='https://www.asknumbers.com/mpg-to-L100km.aspx'>MPG to L/100 KM Conversion</a><br>\n",
    "[24] <a href='https://pandas.pydata.org/pandas-docs/stable/reference/api/pandas.core.groupby.GroupBy.mean.html'>pandas.core.groupby.GroupBy.mean</a><br>\n",
    "[25] <a href='https://pandas.pydata.org/pandas-docs/version/0.25.3/reference/api/pandas.core.groupby.GroupBy.mean.html'>pandas.core.groupby.GroupBy.mean (additional source)</a><br>\n",
    "[26] <a href='https://pandas.pydata.org/pandas-docs/stable/reference/api/pandas.DataFrame.replace.html'>pandas.DataFrame.replace</a><br>\n",
    "[27] <a href='https://pandas.pydata.org/pandas-docs/stable/reference/api/pandas.DataFrame.to_csv.html'>pandas.DataFrame.to_csv</a><br>\n",
    "[28] <a href='https://pandas.pydata.org/pandas-docs/stable/reference/api/pandas.to_numeric.html#pandas.to_numeric'>pandas.to_numeric</a><br>\n",
    "[29] <a href='https://seaborn.pydata.org/examples/many_pairwise_correlations.html'>Plotting a diagonal correlation matrix</a><br>\n",
    "[30] <a href='https://en.wikipedia.org/wiki/Python_(programming_language)'>Python (programming language)</a><br>\n",
    "[31] <a href='https://www.guru99.com/round-function-python.html'>Python round() function with Examples</a><br>\n",
    "[32] <a href='https://en.wikipedia.org/wiki/Regression_analysis'>Regression analysis</a><br>\n",
    "[33] <a href='https://datatofish.com/replace-nan-values-with-zeros/'>Replace NaN Values with Zeros in Pandas DataFrame</a><br>\n",
    "[34] <a href='https://seaborn.pydata.org/generated/seaborn.heatmap.html'>seaborn.heatmap</a><br>\n",
    "[35] <a href='https://seaborn.pydata.org/generated/seaborn.pairplot.html'>seaborn.pairplot</a><br>\n",
    "[36] <a href='https://pythonbasics.org/seaborn-pairplot/'>Seaborn pairplot example</a><br>\n",
    "[37] <a href='https://indianaiproduction.com/seaborn-pairplot/'>Seaborn Pairplot In Detail | Python Seaborn Tutorial</a><br>\n",
    "[38] <a href='https://seaborn.pydata.org/generated/seaborn.scatterplot.html'>seaborn.scatterplot</a><br>\n",
    "[39] <a href='https://scikit-learn.org/stable/modules/generated/sklearn.linear_model.LinearRegression.html'>sklearn.linear_model.LinearRegression</a><br>\n",
    "[40] <a href='https://jupyter-notebook.readthedocs.io/en/stable/notebook.html'>The Jupyter Notebook User Documentation</a><br>\n",
    "[41] <a href='https://docs.python.org/2/library/datetime.html#datetime.datetime.now'>The Python Standard Library: 8.1. datetime — Basic date and time types</a><br>\n",
    "[42] <a href='https://www.yourmechanic.com/article/what-is-engine-displacement'>What Is Engine Displacement?</a><br>\n",
    "[43] <a href='https://stackoverflow.com/questions/16923281/writing-a-pandas-dataframe-to-csv-file'>Writing a pandas DataFrame to CSV file</a><br>"
   ]
  },
  {
   "cell_type": "markdown",
   "metadata": {},
   "source": [
    "<h2 id='About the Author'>About the Author</h2>"
   ]
  },
  {
   "cell_type": "markdown",
   "metadata": {},
   "source": [
    "<p><a href = 'https://www.linkedin.com/in/stavridimitrov/'>Stavri Dimitrov</a> is a Data Science enthusiast who has an extensive experience in data analysis, software design, development, testing, implementation and applications support. He has worked as a Data Scientist, Data Analyst, Software Developer and Application Support Analyst / Programmer. While working as a University Lecturer/Assistant Professor, Stavri has been involved in research work and teaching activities. Over the years he has participated in research projects and studies in the area of software development, transportation engineering and supply chains. Stavri holds a PhD degree in Engineering from the University of Auckland, New Zealand.</p>"
   ]
  }
 ],
 "metadata": {
  "kernelspec": {
   "display_name": "Python 3",
   "language": "python",
   "name": "python3"
  },
  "language_info": {
   "codemirror_mode": {
    "name": "ipython",
    "version": 3
   },
   "file_extension": ".py",
   "mimetype": "text/x-python",
   "name": "python",
   "nbconvert_exporter": "python",
   "pygments_lexer": "ipython3",
   "version": "3.7.6"
  }
 },
 "nbformat": 4,
 "nbformat_minor": 4
}
